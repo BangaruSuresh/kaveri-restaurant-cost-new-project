{
 "cells": [
  {
   "cell_type": "markdown",
   "metadata": {},
   "source": [
    "# To prepare the data Restaurant"
   ]
  },
  {
   "cell_type": "code",
   "execution_count": 45,
   "metadata": {},
   "outputs": [],
   "source": [
    "import numpy as np\n",
    "import pandas as pd\n",
    "import matplotlib.pyplot as plt\n",
    "import seaborn as sns\n",
    "%matplotlib inline"
   ]
  },
  {
   "cell_type": "code",
   "execution_count": 46,
   "metadata": {},
   "outputs": [],
   "source": [
    "collected_data=pd.read_csv('work sheet for hotel suresh.csv')"
   ]
  },
  {
   "cell_type": "code",
   "execution_count": 47,
   "metadata": {},
   "outputs": [
    {
     "name": "stdout",
     "output_type": "stream",
     "text": [
      "   Payment bill   Tip gender    day payment mode  size  Actual food bill  \\\n",
      "0         256.0  16.0      M    SUN         CASH     1             240.0   \n",
      "1         300.0   NaN      F  NIGHT         CASH     1             300.0   \n",
      "2         500.0  30.0      M    SUN       ONLINE     2             470.0   \n",
      "3        1050.0  50.0      M    SUN       ONLINE     3            1000.0   \n",
      "4         950.0  50.0      F  NIGHT         CASH     2             900.0   \n",
      "5         356.0   6.0      F    SUN         CASH     1             350.0   \n",
      "6         450.0  20.0      M    SUN       ONLINE     2             430.0   \n",
      "7         750.0  60.0      F  NIGHT       ONLINE     2             690.0   \n",
      "8           NaN  10.0      M  NIGHT         CASH     1               NaN   \n",
      "\n",
      "                       item  \n",
      "0                    chiken  \n",
      "1               chiken+roti  \n",
      "2         chiken+roti+drink  \n",
      "3  combo chiken+drink+sweet  \n",
      "4        combo chiken+drink  \n",
      "5              chiken+drink  \n",
      "6              mutton+drink  \n",
      "7        mutton+drink+sweet  \n",
      "8              chiken+sweet  \n"
     ]
    }
   ],
   "source": [
    "print(collected_data)"
   ]
  },
  {
   "cell_type": "code",
   "execution_count": 48,
   "metadata": {},
   "outputs": [
    {
     "name": "stdout",
     "output_type": "stream",
     "text": [
      "   Payment bill   Tip gender    day payment mode  size  Actual food bill  \\\n",
      "0         256.0  16.0      M    SUN         CASH     1             240.0   \n",
      "1         300.0   NaN      F  NIGHT         CASH     1             300.0   \n",
      "2         500.0  30.0      M    SUN       ONLINE     2             470.0   \n",
      "3        1050.0  50.0      M    SUN       ONLINE     3            1000.0   \n",
      "4         950.0  50.0      F  NIGHT         CASH     2             900.0   \n",
      "\n",
      "                       item  \n",
      "0                    chiken  \n",
      "1               chiken+roti  \n",
      "2         chiken+roti+drink  \n",
      "3  combo chiken+drink+sweet  \n",
      "4        combo chiken+drink  \n"
     ]
    }
   ],
   "source": [
    "print(collected_data.head())"
   ]
  },
  {
   "cell_type": "code",
   "execution_count": 49,
   "metadata": {},
   "outputs": [
    {
     "name": "stdout",
     "output_type": "stream",
     "text": [
      "   Payment bill   Tip gender    day payment mode  size  Actual food bill  \\\n",
      "4         950.0  50.0      F  NIGHT         CASH     2             900.0   \n",
      "5         356.0   6.0      F    SUN         CASH     1             350.0   \n",
      "6         450.0  20.0      M    SUN       ONLINE     2             430.0   \n",
      "7         750.0  60.0      F  NIGHT       ONLINE     2             690.0   \n",
      "8           NaN  10.0      M  NIGHT         CASH     1               NaN   \n",
      "\n",
      "                 item  \n",
      "4  combo chiken+drink  \n",
      "5        chiken+drink  \n",
      "6        mutton+drink  \n",
      "7  mutton+drink+sweet  \n",
      "8        chiken+sweet  \n"
     ]
    }
   ],
   "source": [
    "print(collected_data.tail())"
   ]
  },
  {
   "cell_type": "code",
   "execution_count": 50,
   "metadata": {},
   "outputs": [
    {
     "name": "stdout",
     "output_type": "stream",
     "text": [
      "(9, 8)\n"
     ]
    }
   ],
   "source": [
    "print(collected_data.shape)"
   ]
  },
  {
   "cell_type": "code",
   "execution_count": 51,
   "metadata": {},
   "outputs": [
    {
     "name": "stdout",
     "output_type": "stream",
     "text": [
      "<class 'pandas.core.frame.DataFrame'>\n",
      "RangeIndex: 9 entries, 0 to 8\n",
      "Data columns (total 8 columns):\n",
      " #   Column            Non-Null Count  Dtype  \n",
      "---  ------            --------------  -----  \n",
      " 0   Payment bill      8 non-null      float64\n",
      " 1   Tip               8 non-null      float64\n",
      " 2   gender            9 non-null      object \n",
      " 3   day               9 non-null      object \n",
      " 4   payment mode      9 non-null      object \n",
      " 5   size              9 non-null      int64  \n",
      " 6   Actual food bill  8 non-null      float64\n",
      " 7   item              9 non-null      object \n",
      "dtypes: float64(3), int64(1), object(4)\n",
      "memory usage: 704.0+ bytes\n",
      "None\n"
     ]
    }
   ],
   "source": [
    "print(collected_data.info())"
   ]
  },
  {
   "cell_type": "code",
   "execution_count": 52,
   "metadata": {},
   "outputs": [
    {
     "name": "stdout",
     "output_type": "stream",
     "text": [
      "Index(['Payment bill', 'Tip', 'gender', 'day', 'payment mode', 'size',\n",
      "       'Actual food bill', 'item'],\n",
      "      dtype='object')\n"
     ]
    }
   ],
   "source": [
    "print(collected_data.columns)"
   ]
  },
  {
   "cell_type": "code",
   "execution_count": 53,
   "metadata": {},
   "outputs": [
    {
     "name": "stdout",
     "output_type": "stream",
     "text": [
      "       Payment bill        Tip      size  Actual food bill\n",
      "count      8.000000   8.000000  9.000000          8.000000\n",
      "mean     576.500000  30.250000  1.666667        547.500000\n",
      "std      303.186411  20.603398  0.707107        283.838485\n",
      "min      256.000000   6.000000  1.000000        240.000000\n",
      "25%      342.000000  14.500000  1.000000        337.500000\n",
      "50%      475.000000  25.000000  2.000000        450.000000\n",
      "75%      800.000000  50.000000  2.000000        742.500000\n",
      "max     1050.000000  60.000000  3.000000       1000.000000\n"
     ]
    }
   ],
   "source": [
    "print(collected_data.describe())"
   ]
  },
  {
   "cell_type": "code",
   "execution_count": 54,
   "metadata": {},
   "outputs": [
    {
     "name": "stdout",
     "output_type": "stream",
     "text": [
      "   Payment bill    Tip  gender    day  payment mode   size  Actual food bill  \\\n",
      "0         False  False   False  False         False  False             False   \n",
      "1         False   True   False  False         False  False             False   \n",
      "2         False  False   False  False         False  False             False   \n",
      "3         False  False   False  False         False  False             False   \n",
      "4         False  False   False  False         False  False             False   \n",
      "5         False  False   False  False         False  False             False   \n",
      "6         False  False   False  False         False  False             False   \n",
      "7         False  False   False  False         False  False             False   \n",
      "8          True  False   False  False         False  False              True   \n",
      "\n",
      "    item  \n",
      "0  False  \n",
      "1  False  \n",
      "2  False  \n",
      "3  False  \n",
      "4  False  \n",
      "5  False  \n",
      "6  False  \n",
      "7  False  \n",
      "8  False  \n"
     ]
    }
   ],
   "source": [
    "print(collected_data.isnull())"
   ]
  },
  {
   "cell_type": "code",
   "execution_count": 55,
   "metadata": {},
   "outputs": [],
   "source": [
    "mean1=collected_data[\"Payment bill\"].mean()"
   ]
  },
  {
   "cell_type": "code",
   "execution_count": 56,
   "metadata": {},
   "outputs": [
    {
     "name": "stdout",
     "output_type": "stream",
     "text": [
      "576.5\n"
     ]
    }
   ],
   "source": [
    "print(mean1)"
   ]
  },
  {
   "cell_type": "code",
   "execution_count": 57,
   "metadata": {},
   "outputs": [],
   "source": [
    "mean2=collected_data[\"Tip\"].mean()"
   ]
  },
  {
   "cell_type": "code",
   "execution_count": 58,
   "metadata": {},
   "outputs": [
    {
     "name": "stdout",
     "output_type": "stream",
     "text": [
      "30.25\n"
     ]
    }
   ],
   "source": [
    "print(mean2)"
   ]
  },
  {
   "cell_type": "code",
   "execution_count": 59,
   "metadata": {},
   "outputs": [],
   "source": [
    "mean3=collected_data[\"Actual food bill\"].mean()"
   ]
  },
  {
   "cell_type": "code",
   "execution_count": 60,
   "metadata": {},
   "outputs": [
    {
     "name": "stdout",
     "output_type": "stream",
     "text": [
      "547.5\n"
     ]
    }
   ],
   "source": [
    "print(mean3)"
   ]
  },
  {
   "cell_type": "code",
   "execution_count": 61,
   "metadata": {},
   "outputs": [],
   "source": [
    "collected_data[\"Payment bill\"].fillna(mean1,inplace=True)"
   ]
  },
  {
   "cell_type": "code",
   "execution_count": 62,
   "metadata": {},
   "outputs": [],
   "source": [
    "collected_data[\"Tip\"].fillna(mean2,inplace=True)"
   ]
  },
  {
   "cell_type": "code",
   "execution_count": 63,
   "metadata": {},
   "outputs": [],
   "source": [
    "collected_data[\"Actual food bill\"].fillna(mean3,inplace=True)"
   ]
  },
  {
   "cell_type": "code",
   "execution_count": 64,
   "metadata": {},
   "outputs": [
    {
     "name": "stdout",
     "output_type": "stream",
     "text": [
      "   Payment bill    Tip gender    day payment mode  size  Actual food bill  \\\n",
      "0         256.0  16.00      M    SUN         CASH     1             240.0   \n",
      "1         300.0  30.25      F  NIGHT         CASH     1             300.0   \n",
      "2         500.0  30.00      M    SUN       ONLINE     2             470.0   \n",
      "3        1050.0  50.00      M    SUN       ONLINE     3            1000.0   \n",
      "4         950.0  50.00      F  NIGHT         CASH     2             900.0   \n",
      "5         356.0   6.00      F    SUN         CASH     1             350.0   \n",
      "6         450.0  20.00      M    SUN       ONLINE     2             430.0   \n",
      "7         750.0  60.00      F  NIGHT       ONLINE     2             690.0   \n",
      "8         576.5  10.00      M  NIGHT         CASH     1             547.5   \n",
      "\n",
      "                       item  \n",
      "0                    chiken  \n",
      "1               chiken+roti  \n",
      "2         chiken+roti+drink  \n",
      "3  combo chiken+drink+sweet  \n",
      "4        combo chiken+drink  \n",
      "5              chiken+drink  \n",
      "6              mutton+drink  \n",
      "7        mutton+drink+sweet  \n",
      "8              chiken+sweet  \n"
     ]
    }
   ],
   "source": [
    "print(collected_data)"
   ]
  },
  {
   "cell_type": "code",
   "execution_count": 65,
   "metadata": {},
   "outputs": [
    {
     "name": "stdout",
     "output_type": "stream",
     "text": [
      "<class 'pandas.core.frame.DataFrame'>\n",
      "RangeIndex: 9 entries, 0 to 8\n",
      "Data columns (total 8 columns):\n",
      " #   Column            Non-Null Count  Dtype  \n",
      "---  ------            --------------  -----  \n",
      " 0   Payment bill      9 non-null      float64\n",
      " 1   Tip               9 non-null      float64\n",
      " 2   gender            9 non-null      object \n",
      " 3   day               9 non-null      object \n",
      " 4   payment mode      9 non-null      object \n",
      " 5   size              9 non-null      int64  \n",
      " 6   Actual food bill  9 non-null      float64\n",
      " 7   item              9 non-null      object \n",
      "dtypes: float64(3), int64(1), object(4)\n",
      "memory usage: 704.0+ bytes\n",
      "None\n"
     ]
    }
   ],
   "source": [
    "print(collected_data.info())"
   ]
  },
  {
   "cell_type": "code",
   "execution_count": 66,
   "metadata": {},
   "outputs": [
    {
     "name": "stdout",
     "output_type": "stream",
     "text": [
      "       Payment bill        Tip      size  Actual food bill\n",
      "count      9.000000   9.000000  9.000000          9.000000\n",
      "mean     576.500000  30.250000  1.666667        547.500000\n",
      "std      283.604919  19.272714  0.707107        265.506591\n",
      "min      256.000000   6.000000  1.000000        240.000000\n",
      "25%      356.000000  16.000000  1.000000        350.000000\n",
      "50%      500.000000  30.000000  2.000000        470.000000\n",
      "75%      750.000000  50.000000  2.000000        690.000000\n",
      "max     1050.000000  60.000000  3.000000       1000.000000\n"
     ]
    }
   ],
   "source": [
    "print(collected_data.describe())"
   ]
  },
  {
   "cell_type": "code",
   "execution_count": 67,
   "metadata": {},
   "outputs": [
    {
     "name": "stdout",
     "output_type": "stream",
     "text": [
      "   Payment bill    Tip  gender    day  payment mode   size  Actual food bill  \\\n",
      "0         False  False   False  False         False  False             False   \n",
      "1         False  False   False  False         False  False             False   \n",
      "2         False  False   False  False         False  False             False   \n",
      "3         False  False   False  False         False  False             False   \n",
      "4         False  False   False  False         False  False             False   \n",
      "5         False  False   False  False         False  False             False   \n",
      "6         False  False   False  False         False  False             False   \n",
      "7         False  False   False  False         False  False             False   \n",
      "8         False  False   False  False         False  False             False   \n",
      "\n",
      "    item  \n",
      "0  False  \n",
      "1  False  \n",
      "2  False  \n",
      "3  False  \n",
      "4  False  \n",
      "5  False  \n",
      "6  False  \n",
      "7  False  \n",
      "8  False  \n"
     ]
    }
   ],
   "source": [
    "print(collected_data.isnull())"
   ]
  },
  {
   "cell_type": "code",
   "execution_count": 68,
   "metadata": {},
   "outputs": [],
   "source": [
    "prepared_data=collected_data"
   ]
  },
  {
   "cell_type": "code",
   "execution_count": 69,
   "metadata": {},
   "outputs": [
    {
     "name": "stdout",
     "output_type": "stream",
     "text": [
      "   Payment bill    Tip gender    day payment mode  size  Actual food bill  \\\n",
      "0         256.0  16.00      M    SUN         CASH     1             240.0   \n",
      "1         300.0  30.25      F  NIGHT         CASH     1             300.0   \n",
      "2         500.0  30.00      M    SUN       ONLINE     2             470.0   \n",
      "3        1050.0  50.00      M    SUN       ONLINE     3            1000.0   \n",
      "4         950.0  50.00      F  NIGHT         CASH     2             900.0   \n",
      "5         356.0   6.00      F    SUN         CASH     1             350.0   \n",
      "6         450.0  20.00      M    SUN       ONLINE     2             430.0   \n",
      "7         750.0  60.00      F  NIGHT       ONLINE     2             690.0   \n",
      "8         576.5  10.00      M  NIGHT         CASH     1             547.5   \n",
      "\n",
      "                       item  \n",
      "0                    chiken  \n",
      "1               chiken+roti  \n",
      "2         chiken+roti+drink  \n",
      "3  combo chiken+drink+sweet  \n",
      "4        combo chiken+drink  \n",
      "5              chiken+drink  \n",
      "6              mutton+drink  \n",
      "7        mutton+drink+sweet  \n",
      "8              chiken+sweet  \n"
     ]
    }
   ],
   "source": [
    "print(prepared_data)"
   ]
  },
  {
   "cell_type": "code",
   "execution_count": 70,
   "metadata": {},
   "outputs": [
    {
     "name": "stdout",
     "output_type": "stream",
     "text": [
      "                  Payment bill       Tip      size  Actual food bill\n",
      "Payment bill          1.000000  0.757429  0.804706           0.99930\n",
      "Tip                   0.757429  1.000000  0.720032           0.74587\n",
      "size                  0.804706  0.720032  1.000000           0.80230\n",
      "Actual food bill      0.999300  0.745870  0.802300           1.00000\n"
     ]
    }
   ],
   "source": [
    "print(prepared_data.corr())"
   ]
  },
  {
   "cell_type": "code",
   "execution_count": 71,
   "metadata": {},
   "outputs": [
    {
     "name": "stdout",
     "output_type": "stream",
     "text": [
      "<seaborn.axisgrid.PairGrid object at 0x000001BF8236A430>\n"
     ]
    },
    {
     "data": {
      "image/png": "[encoded data removed]",
      "text/plain": [
       "<Figure size 720x720 with 20 Axes>"
      ]
     },
     "metadata": {
      "needs_background": "light"
     },
     "output_type": "display_data"
    }
   ],
   "source": [
    "print(sns.pairplot(data=prepared_data))"
   ]
  },
  {
   "cell_type": "code",
   "execution_count": 72,
   "metadata": {},
   "outputs": [
    {
     "name": "stdout",
     "output_type": "stream",
     "text": [
      "<bound method NDFrame.head of    Payment bill    Tip gender    day payment mode  size  Actual food bill  \\\n",
      "0         256.0  16.00      M    SUN         CASH     1             240.0   \n",
      "1         300.0  30.25      F  NIGHT         CASH     1             300.0   \n",
      "2         500.0  30.00      M    SUN       ONLINE     2             470.0   \n",
      "3        1050.0  50.00      M    SUN       ONLINE     3            1000.0   \n",
      "4         950.0  50.00      F  NIGHT         CASH     2             900.0   \n",
      "5         356.0   6.00      F    SUN         CASH     1             350.0   \n",
      "6         450.0  20.00      M    SUN       ONLINE     2             430.0   \n",
      "7         750.0  60.00      F  NIGHT       ONLINE     2             690.0   \n",
      "8         576.5  10.00      M  NIGHT         CASH     1             547.5   \n",
      "\n",
      "                       item  \n",
      "0                    chiken  \n",
      "1               chiken+roti  \n",
      "2         chiken+roti+drink  \n",
      "3  combo chiken+drink+sweet  \n",
      "4        combo chiken+drink  \n",
      "5              chiken+drink  \n",
      "6              mutton+drink  \n",
      "7        mutton+drink+sweet  \n",
      "8              chiken+sweet  >\n"
     ]
    }
   ],
   "source": [
    "print(prepared_data.head)"
   ]
  },
  {
   "cell_type": "code",
   "execution_count": 73,
   "metadata": {},
   "outputs": [
    {
     "name": "stdout",
     "output_type": "stream",
     "text": [
      "0     256.0\n",
      "1     300.0\n",
      "2     500.0\n",
      "3    1050.0\n",
      "4     950.0\n",
      "5     356.0\n",
      "6     450.0\n",
      "7     750.0\n",
      "8     576.5\n",
      "Name: Payment bill, dtype: float64\n"
     ]
    }
   ],
   "source": [
    "predict_variable=prepared_data[\"Payment bill\"]\n",
    "print(predict_variable)"
   ]
  },
  {
   "cell_type": "code",
   "execution_count": 74,
   "metadata": {},
   "outputs": [
    {
     "name": "stdout",
     "output_type": "stream",
     "text": [
      "<bound method NDFrame.head of 0     256.0\n",
      "1     300.0\n",
      "2     500.0\n",
      "3    1050.0\n",
      "4     950.0\n",
      "5     356.0\n",
      "6     450.0\n",
      "7     750.0\n",
      "8     576.5\n",
      "Name: Payment bill, dtype: float64>\n"
     ]
    }
   ],
   "source": [
    "print(predict_variable.head)"
   ]
  },
  {
   "cell_type": "code",
   "execution_count": 75,
   "metadata": {},
   "outputs": [
    {
     "name": "stdout",
     "output_type": "stream",
     "text": [
      "0    16.00\n",
      "1    30.25\n",
      "2    30.00\n",
      "3    50.00\n",
      "4    50.00\n",
      "5     6.00\n",
      "6    20.00\n",
      "7    60.00\n",
      "8    10.00\n",
      "Name: Tip, dtype: float64\n"
     ]
    }
   ],
   "source": [
    "tp=prepared_data[\"Tip\"]\n",
    "print(tp)"
   ]
  },
  {
   "cell_type": "code",
   "execution_count": 76,
   "metadata": {},
   "outputs": [
    {
     "name": "stdout",
     "output_type": "stream",
     "text": [
      "<bound method NDFrame.head of 0    16.00\n",
      "1    30.25\n",
      "2    30.00\n",
      "3    50.00\n",
      "4    50.00\n",
      "5     6.00\n",
      "6    20.00\n",
      "7    60.00\n",
      "8    10.00\n",
      "Name: Tip, dtype: float64>\n"
     ]
    }
   ],
   "source": [
    "print(tp.head)"
   ]
  },
  {
   "cell_type": "code",
   "execution_count": 77,
   "metadata": {},
   "outputs": [
    {
     "name": "stdout",
     "output_type": "stream",
     "text": [
      "AxesSubplot(0.125,0.125;0.775x0.755)\n"
     ]
    },
    {
     "data": {
      "image/png": "[encoded data removed]",
      "text/plain": [
       "<Figure size 432x288 with 1 Axes>"
      ]
     },
     "metadata": {
      "needs_background": "light"
     },
     "output_type": "display_data"
    }
   ],
   "source": [
    "print(prepared_data.plot(kind='line',x='Payment bill',y='Tip',title='Payment bill vs Tip'))"
   ]
  },
  {
   "cell_type": "code",
   "execution_count": 78,
   "metadata": {},
   "outputs": [
    {
     "name": "stdout",
     "output_type": "stream",
     "text": [
      "AxesSubplot(0.125,0.125;0.775x0.755)\n"
     ]
    },
    {
     "data": {
      "image/png": "[encoded data removed]",
      "text/plain": [
       "<Figure size 432x288 with 1 Axes>"
      ]
     },
     "metadata": {
      "needs_background": "light"
     },
     "output_type": "display_data"
    }
   ],
   "source": [
    "print(prepared_data.plot(kind='scatter',x='Payment bill',y='Tip',title='Payment bill vs Tip'))"
   ]
  },
  {
   "cell_type": "code",
   "execution_count": 80,
   "metadata": {},
   "outputs": [
    {
     "name": "stdout",
     "output_type": "stream",
     "text": [
      "AxesSubplot(0.125,0.125;0.775x0.755)\n"
     ]
    },
    {
     "data": {
      "image/png": "[encoded data removed]",
      "text/plain": [
       "<Figure size 720x720 with 1 Axes>"
      ]
     },
     "metadata": {
      "needs_background": "light"
     },
     "output_type": "display_data"
    }
   ],
   "source": [
    "print(prepared_data.plot(kind='bar',x='item',y='Actual food bill',figsize=(10,10)))"
   ]
  },
  {
   "cell_type": "code",
   "execution_count": 82,
   "metadata": {},
   "outputs": [
    {
     "name": "stdout",
     "output_type": "stream",
     "text": [
      "AxesSubplot(0.125,0.125;0.775x0.755)\n"
     ]
    },
    {
     "data": {
      "image/png": "[encoded data removed]",
      "text/plain": [
       "<Figure size 432x288 with 1 Axes>"
      ]
     },
     "metadata": {
      "needs_background": "light"
     },
     "output_type": "display_data"
    }
   ],
   "source": [
    "print(prepared_data.plot(kind='area',x='Payment bill',y='Actual food bill',title='Payment bill vs Actual food bill'))"
   ]
  },
  {
   "cell_type": "code",
   "execution_count": 83,
   "metadata": {},
   "outputs": [
    {
     "name": "stdout",
     "output_type": "stream",
     "text": [
      "AxesSubplot(0.125,0.125;0.775x0.755)\n"
     ]
    },
    {
     "data": {
      "image/png": "[encoded data removed]",
      "text/plain": [
       "<Figure size 432x288 with 1 Axes>"
      ]
     },
     "metadata": {
      "needs_background": "light"
     },
     "output_type": "display_data"
    }
   ],
   "source": [
    "print(prepared_data.plot(kind='box',x='item',y='Actual food bill',title='item vs Actual food bill'))"
   ]
  },
  {
   "cell_type": "code",
   "execution_count": 84,
   "metadata": {},
   "outputs": [
    {
     "name": "stdout",
     "output_type": "stream",
     "text": [
      "AxesSubplot(0.125,0.125;0.775x0.755)\n"
     ]
    },
    {
     "data": {
      "image/png": "[encoded data removed]",
      "text/plain": [
       "<Figure size 432x288 with 1 Axes>"
      ]
     },
     "metadata": {
      "needs_background": "light"
     },
     "output_type": "display_data"
    }
   ],
   "source": [
    "print(prepared_data.plot(kind='hist'))"
   ]
  },
  {
   "cell_type": "code",
   "execution_count": null,
   "metadata": {},
   "outputs": [],
   "source": []
  }
 ],
 "metadata": {
  "kernelspec": {
   "display_name": "Python 3",
   "language": "python",
   "name": "python3"
  },
  "language_info": {
   "codemirror_mode": {
    "name": "ipython",
    "version": 3
   },
   "file_extension": ".py",
   "mimetype": "text/x-python",
   "name": "python",
   "nbconvert_exporter": "python",
   "pygments_lexer": "ipython3",
   "version": "3.8.3"
  }
 },
 "nbformat": 4,
 "nbformat_minor": 4
}
